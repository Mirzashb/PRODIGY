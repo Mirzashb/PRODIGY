{
 "cells": [
  {
   "cell_type": "markdown",
   "id": "1524ec83",
   "metadata": {},
   "source": [
    "# TASK:01"
   ]
  },
  {
   "cell_type": "code",
   "execution_count": 2,
   "id": "0da5a6be",
   "metadata": {},
   "outputs": [
    {
     "name": "stdout",
     "output_type": "stream",
     "text": [
      "Caesar Cipher Program\n",
      "Do you want to (e)ncrypt or (d)ecrypt? e\n",
      "Enter your message: fawad baig\n",
      "Enter the shift value: 2\n",
      "Encrypted message: hcycf dcki\n"
     ]
    }
   ],
   "source": [
    "def caesar_cipher_encrypt(text, shift):\n",
    "    encrypted_text = []\n",
    "    \n",
    "    for char in text:\n",
    "        if char.isalpha():  # Check if the character is a letter\n",
    "            shift_amount = shift % 26  # Normalize the shift value\n",
    "            start = ord('A') if char.isupper() else ord('a')\n",
    "            # Calculate the new character with wrap-around using modulo\n",
    "            new_char = chr(start + (ord(char) - start + shift_amount) % 26)\n",
    "            encrypted_text.append(new_char)\n",
    "        else:\n",
    "            encrypted_text.append(char)  # Non-alphabet characters remain the same\n",
    "    \n",
    "    return ''.join(encrypted_text)\n",
    "\n",
    "def caesar_cipher_decrypt(text, shift):\n",
    "    return caesar_cipher_encrypt(text, -shift)\n",
    "\n",
    "def main():\n",
    "    print(\"Caesar Cipher Program\")\n",
    "    \n",
    "    # Get the user's choice\n",
    "    choice = input(\"Do you want to (e)ncrypt or (d)ecrypt? \").strip().lower()\n",
    "    \n",
    "    if choice not in ('e', 'd'):\n",
    "        print(\"Invalid choice! Please select 'e' for encryption or 'd' for decryption.\")\n",
    "        return\n",
    "    \n",
    "    # Get the message and shift value from the user\n",
    "    message = input(\"Enter your message: \")\n",
    "    shift = int(input(\"Enter the shift value: \"))\n",
    "    \n",
    "    if choice == 'e':\n",
    "        result = caesar_cipher_encrypt(message, shift)\n",
    "        print(\"Encrypted message:\", result)\n",
    "    elif choice == 'd':\n",
    "        result = caesar_cipher_decrypt(message, shift)\n",
    "        print(\"Decrypted message:\", result)\n",
    "\n",
    "if __name__ == \"__main__\":\n",
    "    main()\n"
   ]
  },
  {
   "cell_type": "code",
   "execution_count": null,
   "id": "57193483",
   "metadata": {},
   "outputs": [],
   "source": []
  }
 ],
 "metadata": {
  "kernelspec": {
   "display_name": "Python 3 (ipykernel)",
   "language": "python",
   "name": "python3"
  },
  "language_info": {
   "codemirror_mode": {
    "name": "ipython",
    "version": 3
   },
   "file_extension": ".py",
   "mimetype": "text/x-python",
   "name": "python",
   "nbconvert_exporter": "python",
   "pygments_lexer": "ipython3",
   "version": "3.11.5"
  }
 },
 "nbformat": 4,
 "nbformat_minor": 5
}
